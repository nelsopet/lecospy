{
 "cells": [
  {
   "attachments": {},
   "cell_type": "markdown",
   "metadata": {},
   "source": [
    "# **Lecospy Data Munging**"
   ]
  },
  {
   "attachments": {},
   "cell_type": "markdown",
   "metadata": {},
   "source": [
    "## Notation:\n",
    "Throughout this notebook, variables starting with <code>print(img_)</code> are UAV-based information (data, filepaths, etc) and variables starting with grd_ are related to data collected from the ground.\n",
    "\n",
    "Also, some other naming conventions for variables with data transformations:\n",
    "* `robust` in a variable name refers to data treated by center according to the median and scaling by teh inter-quartile range (a la sklearns RobustScaler)\n",
    "* `minmax` (and its ilk) are min-max scaled data, i.e. scaled to the interval [0,1] by subtracting the minimum and dividing by the range.\n",
    "* `standard(ized)` refers to data treated with with the z-score transform by centring using the mean and scaling y the standard deviation (like sklearns StandardScaler)\n",
    "* `corrected` means that a linear transformation has been applied to account for differences in sensor calibration.\n",
    "* `raw` refers to having no transformations applied\n",
    "* `clipped` means that outliers have been clipped to the upper and lower fence values based on the Inter-Quartile Range method. \n",
    "* `imputed` means that outliers have been removed and imputed\n",
    "* `dropped` means that dataframe rows containing outliers have been removed\n",
    "\n",
    "Example: `img_robust_indices` refers to vegetation indices from the UAV images treated with the robust scaler. "
   ]
  },
  {
   "attachments": {},
   "cell_type": "markdown",
   "metadata": {},
   "source": [
    "### Setting Working Directory"
   ]
  },
  {
   "cell_type": "code",
   "execution_count": null,
   "metadata": {},
   "outputs": [],
   "source": [
    "\"\"\"\n",
    "Sets working directory as \"../lecoscopy/\"\n",
    "\"\"\"\n",
    "import os\n",
    "os.chdir('../')\n",
    "print(os.getcwd())\n",
    "import Functions.spectral_operations as fncs"
   ]
  },
  {
   "attachments": {},
   "cell_type": "markdown",
   "metadata": {},
   "source": [
    "### Defining Data Locations"
   ]
  },
  {
   "cell_type": "code",
   "execution_count": null,
   "metadata": {},
   "outputs": [],
   "source": [
    "import pandas as pd\n",
    "grd_base_path = pd.read_csv(\"Data/C_001_SC3_Cleaned_SpectralLib.csv\", header=0, low_memory=False)\n",
    "print(len(grd_base_path))\n",
    "grd_speclib = grd_base_path[grd_base_path[\"Functional_group1\"] == \"\"]\n",
    "print(len(grd_speclib))\n",
    "grd_base_path.head()\n"
   ]
  },
  {
   "cell_type": "code",
   "execution_count": null,
   "metadata": {},
   "outputs": [],
   "source": [
    "img_speclib = pd.read_csv(\"Data/PFT_Image_SpectralLib_Clean.csv\", header=0, low_memory=False)\n",
    "img_speclib.head()\n",
    "\n"
   ]
  },
  {
   "cell_type": "code",
   "execution_count": null,
   "metadata": {},
   "outputs": [],
   "source": [
    "grd_bands = grd_base_path.drop(columns=['Unnamed: 0',\n",
    "        'ScanID',\n",
    "        'Area',\n",
    "        'Code_name',\n",
    "        'Species_name',\n",
    "        'Functional_group1',\n",
    "        'Functional_group2',\n",
    "        'Species_name_Freq',\n",
    "        'Functional_group1_Freq',\n",
    "        'Functional_group2_Freq',\n",
    "        'Genus',\n",
    "        'Version',\n",
    "        'File.Name',\n",
    "        'Instrument',\n",
    "        'Detectors',\n",
    "        'Measurement',\n",
    "        'Date',\n",
    "        'Time',\n",
    "        'Battery.Voltage',\n",
    "        'Averages',\n",
    "        'Integration1',\n",
    "        'Integration2',\n",
    "        'Integration3',\n",
    "        'Dark.Mode',\n",
    "        'Foreoptic',\n",
    "        'Radiometric.Calibration',\n",
    "        'Units',\n",
    "        'Latitude',\n",
    "        'Longitude',\n",
    "        'Altitude',\n",
    "        'GPS.Time',\n",
    "        'Satellites',\n",
    "        'Calibrated.Reference.Correction.File',\n",
    "        'Channels',\n",
    "        'ScanNum'])\n",
    "\n",
    "img_bands = img_speclib.drop(columns=[\n",
    "        \"Unnamed: 0\",\n",
    "    \t\"UID\",\n",
    "        \"ScanNum\",\n",
    "    \t\"sample_name\",\n",
    "    \t\"PFT\",\n",
    "    \t\"FncGrp1\"])\n",
    "grd_speclib.head()"
   ]
  },
  {
   "attachments": {},
   "cell_type": "markdown",
   "metadata": {},
   "source": [
    "### Getting vegetation indices"
   ]
  },
  {
   "cell_type": "code",
   "execution_count": null,
   "metadata": {},
   "outputs": [],
   "source": [
    "img_indices = fncs.get_vegetation_indices()"
   ]
  }
 ],
 "metadata": {
  "kernelspec": {
   "display_name": "base",
   "language": "python",
   "name": "python3"
  },
  "language_info": {
   "codemirror_mode": {
    "name": "ipython",
    "version": 3
   },
   "file_extension": ".py",
   "mimetype": "text/x-python",
   "name": "python",
   "nbconvert_exporter": "python",
   "pygments_lexer": "ipython3",
   "version": "3.9.15"
  },
  "orig_nbformat": 4,
  "vscode": {
   "interpreter": {
    "hash": "632308144ad0d4fa1436a44612062c2b865e30367ea72ccf552da431e633270a"
   }
  }
 },
 "nbformat": 4,
 "nbformat_minor": 2
}
