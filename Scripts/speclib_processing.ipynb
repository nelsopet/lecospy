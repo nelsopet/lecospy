{
 "cells": [
  {
   "attachments": {},
   "cell_type": "raw",
   "metadata": {},
   "source": [
    "Lecospy Clearing Data"
   ]
  },
  {
   "cell_type": "code",
   "execution_count": 1,
   "metadata": {},
   "outputs": [
    {
     "name": "stdout",
     "output_type": "stream",
     "text": [
      "/Users/kalyankhatiwada/lecospy\n"
     ]
    }
   ],
   "source": [
    "\"\"\"\n",
    "Sets working directory as \"../lecoscopy/\"\n",
    "\"\"\"\n",
    "import os\n",
    "os.chdir('../')\n",
    "print(os.getcwd())\n"
   ]
  },
  {
   "attachments": {},
   "cell_type": "markdown",
   "metadata": {},
   "source": [
    "Defining Data Locations"
   ]
  },
  {
   "cell_type": "code",
   "execution_count": 5,
   "metadata": {},
   "outputs": [
    {
     "name": "stderr",
     "output_type": "stream",
     "text": [
      "/var/folders/6k/89y9bz292sq80h1z4zxk39kh0000gn/T/ipykernel_16392/1692858251.py:2: DtypeWarning: Columns (2162,2163,2164,2166,2167,2168,2174,2175,2176,2177,2181,2182,2183) have mixed types. Specify dtype option on import or set low_memory=False.\n",
      "  grd_base_path = pd.read_csv(\"Data/C_001_SC3_Cleaned_SpectralLib.csv\", header=0)\n"
     ]
    },
    {
     "data": {
      "text/plain": [
       "\"grd_speclib = grd_base_path.drop(columns=['X',\\n        'ScanID',\\n        'Area',\\n        'Code_name',\\n        'Species_name',\\n        'Functional_group1',\\n        'Functional_group2',\\n        'Species_name_Freq',\\n        'Functional_group1_Freq',\\n        'Functional_group2_Freq',\\n        'Genus',\\n        'Version',\\n        'File.Name',\\n        'Instrument',\\n        'Detectors',\\n        'Measurement',\\n        'Date',\\n        'Time',\\n        'Battery.Voltage',\\n        'Averages',\\n        'Integration1',\\n        'Integration2',\\n        'Integration3',\\n        'Dark.Mode',\\n        'Foreoptic',\\n        'Radiometric.Calibration',\\n        'Units',\\n        'Latitude',\\n        'Longitude',\\n        'Altitude',\\n        'GPS.Time',\\n        'Satellites',\\n        'Calibrated.Reference.Correction.File',\\n        'Channels',\\n        'ScanNum'])\\n        \""
      ]
     },
     "execution_count": 5,
     "metadata": {},
     "output_type": "execute_result"
    }
   ],
   "source": [
    "import pandas as pd\n",
    "grd_base_path = pd.read_csv(\"Data/C_001_SC3_Cleaned_SpectralLib.csv\", header=0)\n",
    "grd_base_path.dropna(subset=[\"Functional_group1\"], inplace=True)\n",
    "grd_base_path = grd_base_path.head()\n",
    "\n",
    "# Removing meta data needs to be fixed\n",
    "'''grd_speclib = grd_base_path.drop(columns=['X',\n",
    "        'ScanID',\n",
    "        'Area',\n",
    "        'Code_name',\n",
    "        'Species_name',\n",
    "        'Functional_group1',\n",
    "        'Functional_group2',\n",
    "        'Species_name_Freq',\n",
    "        'Functional_group1_Freq',\n",
    "        'Functional_group2_Freq',\n",
    "        'Genus',\n",
    "        'Version',\n",
    "        'File.Name',\n",
    "        'Instrument',\n",
    "        'Detectors',\n",
    "        'Measurement',\n",
    "        'Date',\n",
    "        'Time',\n",
    "        'Battery.Voltage',\n",
    "        'Averages',\n",
    "        'Integration1',\n",
    "        'Integration2',\n",
    "        'Integration3',\n",
    "        'Dark.Mode',\n",
    "        'Foreoptic',\n",
    "        'Radiometric.Calibration',\n",
    "        'Units',\n",
    "        'Latitude',\n",
    "        'Longitude',\n",
    "        'Altitude',\n",
    "        'GPS.Time',\n",
    "        'Satellites',\n",
    "        'Calibrated.Reference.Correction.File',\n",
    "        'Channels',\n",
    "        'ScanNum'])\n",
    "        '''"
   ]
  },
  {
   "cell_type": "code",
   "execution_count": 4,
   "metadata": {},
   "outputs": [
    {
     "name": "stderr",
     "output_type": "stream",
     "text": [
      "/var/folders/6k/89y9bz292sq80h1z4zxk39kh0000gn/T/ipykernel_16392/1335745196.py:1: DtypeWarning: Columns (2) have mixed types. Specify dtype option on import or set low_memory=False.\n",
      "  img_base_path = pd.read_csv(\"Data/PFT_Image_SpectralLib_Clean.csv\", header=0)\n"
     ]
    }
   ],
   "source": [
    "img_base_path = pd.read_csv(\"Data/PFT_Image_SpectralLib_Clean.csv\", header=0)\n",
    "img_speclib = img_base_path.head()"
   ]
  }
 ],
 "metadata": {
  "kernelspec": {
   "display_name": "base",
   "language": "python",
   "name": "python3"
  },
  "language_info": {
   "codemirror_mode": {
    "name": "ipython",
    "version": 3
   },
   "file_extension": ".py",
   "mimetype": "text/x-python",
   "name": "python",
   "nbconvert_exporter": "python",
   "pygments_lexer": "ipython3",
   "version": "3.9.15"
  },
  "orig_nbformat": 4,
  "vscode": {
   "interpreter": {
    "hash": "632308144ad0d4fa1436a44612062c2b865e30367ea72ccf552da431e633270a"
   }
  }
 },
 "nbformat": 4,
 "nbformat_minor": 2
}
