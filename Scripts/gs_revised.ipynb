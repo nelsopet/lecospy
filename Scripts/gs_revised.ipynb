{
 "cells": [
  {
   "attachments": {},
   "cell_type": "markdown",
   "metadata": {},
   "source": [
    "### Setting Working Directory and importing libraries"
   ]
  },
  {
   "cell_type": "code",
   "execution_count": 1,
   "metadata": {},
   "outputs": [
    {
     "name": "stdout",
     "output_type": "stream",
     "text": [
      "/Users/kalyankhatiwada/lecospy\n"
     ]
    }
   ],
   "source": [
    "from sklearn.preprocessing import StandardScaler, RobustScaler, MinMaxScaler\n",
    "from sklearn.impute import KNNImputer, SimpleImputer\n",
    "from sklearn.pipeline import Pipeline\n",
    "from sklearn.model_selection import GridSearchCV, train_test_split, StratifiedShuffleSplit\n",
    "from sklearn.metrics import f1_score, balanced_accuracy_score\n",
    "from sklearn.ensemble import RandomForestClassifier\n",
    "from sklearn.discriminant_analysis import LinearDiscriminantAnalysis\n",
    "from sklearn.svm import SVC\n",
    "from sklearn.metrics import confusion_matrix, ConfusionMatrixDisplay\n",
    "\n",
    "import pandas as pd\n",
    "import os\n",
    "os.chdir('../')\n",
    "print(os.getcwd())"
   ]
  },
  {
   "attachments": {},
   "cell_type": "markdown",
   "metadata": {},
   "source": [
    "### Reading in the data"
   ]
  },
  {
   "cell_type": "code",
   "execution_count": 21,
   "metadata": {},
   "outputs": [
    {
     "name": "stdout",
     "output_type": "stream",
     "text": [
      "<class 'pandas.core.series.Series'>\n",
      "RangeIndex: 1343 entries, 0 to 1342\n",
      "Series name: Functional_group1\n",
      "Non-Null Count  Dtype \n",
      "--------------  ----- \n",
      "1343 non-null   object\n",
      "dtypes: object(1)\n",
      "memory usage: 10.6+ KB\n"
     ]
    },
    {
     "name": "stderr",
     "output_type": "stream",
     "text": [
      "/var/folders/6k/89y9bz292sq80h1z4zxk39kh0000gn/T/ipykernel_54982/287070273.py:5: DtypeWarning: Columns (2162,2163,2164,2166,2167,2168,2174,2175,2176,2177,2181,2182,2183) have mixed types. Specify dtype option on import or set low_memory=False.\n",
      "  grd_speclib = pd.read_csv(\"Data/C_001_SC3_Cleaned_SpectralLib.csv\")\n"
     ]
    }
   ],
   "source": [
    "raw_grd_indices = pd.read_csv(\"Data/training/grd_indices.csv\")\n",
    "raw_grd_data = raw_grd_indices.iloc[:, 1:]\n",
    "raw_grd_data.head()\n",
    "\n",
    "grd_speclib = pd.read_csv(\"Data/C_001_SC3_Cleaned_SpectralLib.csv\")\n",
    "grd_speclib.dropna(subset = [\"Functional_group1\"], inplace=True)\n",
    "labels = grd_speclib[\"Functional_group1\"]\n",
    "labels.head()"
   ]
  },
  {
   "attachments": {},
   "cell_type": "markdown",
   "metadata": {},
   "source": [
    "### Scaling, imputing and splitting the data"
   ]
  },
  {
   "cell_type": "code",
   "execution_count": 11,
   "metadata": {},
   "outputs": [],
   "source": [
    "robust_scaler = RobustScaler()\n",
    "robust_scaled_grd = robust_scaler.fit_transform(raw_grd_data)\n",
    "\n",
    "standard_scaler = StandardScaler()\n",
    "standard_scaled_grd = standard_scaler.fit_transform(raw_grd_data)\n",
    "\n",
    "minmax_scaler = MinMaxScaler()\n",
    "minmax_scaled_grd = minmax_scaler.fit_transform(raw_grd_data)"
   ]
  },
  {
   "cell_type": "code",
   "execution_count": 66,
   "metadata": {},
   "outputs": [],
   "source": [
    "KNNimputer = KNNImputer()\n",
    "KNNimputed_robust_grd = KNNimputer.fit_transform(robust_scaled_grd)\n",
    "KNNimputed_standard_grd = KNNimputer.fit_transform(standard_scaled_grd)\n",
    "KNNimputed_minmax_grd = KNNimputer.fit_transform(minmax_scaled_grd)\n",
    "KNNimputed_raw_grd = KNNimputer.fit_transform(raw_grd_data)\n",
    "\n",
    "simple_imputer = SimpleImputer()\n",
    "simputed_raw_grd = simple_imputer.fit_transform(raw_grd_data)\n",
    "simputed_robust_grd  = simple_imputer.fit_transform(robust_scaled_grd)\n",
    "simputed_minmax_grd = simple_imputer.fit_transform(minmax_scaled_grd)\n",
    "simputed_standard_grd = simple_imputer.fit_transform(standard_scaled_grd)"
   ]
  },
  {
   "cell_type": "code",
   "execution_count": 71,
   "metadata": {},
   "outputs": [
    {
     "name": "stdout",
     "output_type": "stream",
     "text": [
      "[[-1.35315357 -1.46583554  1.08284522 ... -0.39354603 -0.79792306\n",
      "  -1.19037047]\n",
      " [-1.04427346 -1.33473808 -0.23145524 ...  0.3004764  -0.51161441\n",
      "  -1.02787466]\n",
      " [ 0.34667629  0.25590481 -0.23145524 ...  0.65379741  0.64284609\n",
      "   0.35691201]\n",
      " ...\n",
      " [ 0.13900688  0.13798895 -0.07839162 ... -0.51674228  0.04943077\n",
      "   0.01988778]\n",
      " [ 0.06116879 -0.04476806 -0.23145524 ...  0.30811884  0.24150383\n",
      "  -0.14723806]\n",
      " [ 0.04706655 -0.03448046 -0.23145524 ...  0.12749482  0.05021272\n",
      "  -0.19880559]]\n"
     ]
    }
   ],
   "source": [
    "x_train, x_test, y_train, y_test = train_test_split(KNNimputed_robust_grd, labels, train_size = 0.8)\n",
    "print(x_train)"
   ]
  },
  {
   "attachments": {},
   "cell_type": "markdown",
   "metadata": {},
   "source": [
    "### Training and testing model"
   ]
  },
  {
   "cell_type": "code",
   "execution_count": 76,
   "metadata": {},
   "outputs": [
    {
     "data": {
      "text/plain": [
       "RandomForestClassifier()"
      ]
     },
     "execution_count": 76,
     "metadata": {},
     "output_type": "execute_result"
    }
   ],
   "source": [
    "rf = RandomForestClassifier()\n",
    "rf.fit(x_train, y_train)"
   ]
  },
  {
   "cell_type": "code",
   "execution_count": 73,
   "metadata": {},
   "outputs": [],
   "source": [
    "predicted = rf.predict(x_test)"
   ]
  },
  {
   "cell_type": "code",
   "execution_count": 74,
   "metadata": {},
   "outputs": [
    {
     "name": "stdout",
     "output_type": "stream",
     "text": [
      "0.8401355961790185\n",
      "0.8568651384142437\n"
     ]
    },
    {
     "data": {
      "text/plain": [
       "<sklearn.metrics._plot.confusion_matrix.ConfusionMatrixDisplay at 0x7f7ca27aa8b0>"
      ]
     },
     "execution_count": 74,
     "metadata": {},
     "output_type": "execute_result"
    },
    {
     "data": {
      "image/png": "[encoded data removed]",
      "text/plain": [
       "<Figure size 640x480 with 2 Axes>"
      ]
     },
     "metadata": {},
     "output_type": "display_data"
    }
   ],
   "source": [
    "print(f1_score(predicted, y_test, average=\"weighted\"))\n",
    "print(balanced_accuracy_score(predicted, y_test))\n",
    "cm = confusion_matrix(predicted, y_test)\n",
    "disp = ConfusionMatrixDisplay(confusion_matrix=cm)\n",
    "disp.plot()"
   ]
  }
 ],
 "metadata": {
  "kernelspec": {
   "display_name": "base",
   "language": "python",
   "name": "python3"
  },
  "language_info": {
   "codemirror_mode": {
    "name": "ipython",
    "version": 3
   },
   "file_extension": ".py",
   "mimetype": "text/x-python",
   "name": "python",
   "nbconvert_exporter": "python",
   "pygments_lexer": "ipython3",
   "version": "3.9.15"
  },
  "orig_nbformat": 4,
  "vscode": {
   "interpreter": {
    "hash": "632308144ad0d4fa1436a44612062c2b865e30367ea72ccf552da431e633270a"
   }
  }
 },
 "nbformat": 4,
 "nbformat_minor": 2
}
